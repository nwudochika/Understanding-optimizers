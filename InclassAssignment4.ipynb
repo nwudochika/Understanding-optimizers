{
  "nbformat": 4,
  "nbformat_minor": 0,
  "metadata": {
    "colab": {
      "provenance": []
    },
    "kernelspec": {
      "name": "python3",
      "display_name": "Python 3"
    },
    "language_info": {
      "name": "python"
    }
  },
  "cells": [
    {
      "cell_type": "code",
      "execution_count": 1,
      "metadata": {
        "id": "Hup2HRdfdSwn"
      },
      "outputs": [],
      "source": [
        "import numpy as np\n",
        "import matplotlib.pyplot as plt"
      ]
    },
    {
      "cell_type": "code",
      "source": [
        "f = lambda x: np.sin(2*x) + a*np.sin(4*x)\n",
        "fprime = lambda x: 2* np.cos(2*x) + 4*a*np.cos(4*x)"
      ],
      "metadata": {
        "id": "nEDizhR3kRq2"
      },
      "execution_count": 2,
      "outputs": []
    },
    {
      "cell_type": "code",
      "source": [
        "x = np.linspace(0, np.pi, 100)\n",
        "x0 = 0.75\n",
        "a = 0.501\n",
        "# a = 0.499\n",
        "\n",
        "# Learning rate\n",
        "etas = [0.1, 0.01, 0.001]\n",
        "\n",
        "targetErr = 1e-8"
      ],
      "metadata": {
        "id": "xUiwAZ_Nk0do"
      },
      "execution_count": 3,
      "outputs": []
    },
    {
      "cell_type": "code",
      "source": [
        "plt.plot(x, f(x))\n",
        "plt.plot(x0, f(x0), 'ro')"
      ],
      "metadata": {
        "colab": {
          "base_uri": "https://localhost:8080/",
          "height": 282
        },
        "id": "7vFXuZy4krRo",
        "outputId": "8d016067-84c2-4ea4-bf13-2f35b28e3b07"
      },
      "execution_count": 4,
      "outputs": [
        {
          "output_type": "execute_result",
          "data": {
            "text/plain": [
              "[<matplotlib.lines.Line2D at 0x7f5e8ab65640>]"
            ]
          },
          "metadata": {},
          "execution_count": 4
        },
        {
          "output_type": "display_data",
          "data": {
            "text/plain": [
              "<Figure size 432x288 with 1 Axes>"
            ],
            "image/png": "[encoded data removed]"
          },
          "metadata": {
            "needs_background": "light"
          }
        }
      ]
    },
    {
      "cell_type": "code",
      "source": [
        "# A zoom in around the flat region\n",
        "x = np.linspace(1.5, 1.6, 100)\n",
        "plt.plot(x, f(x))"
      ],
      "metadata": {
        "colab": {
          "base_uri": "https://localhost:8080/",
          "height": 282
        },
        "id": "01nnmW2nkrVl",
        "outputId": "c496eb81-4d8f-43ed-ecee-d2a0ad373b83"
      },
      "execution_count": 5,
      "outputs": [
        {
          "output_type": "execute_result",
          "data": {
            "text/plain": [
              "[<matplotlib.lines.Line2D at 0x7f5e8827df70>]"
            ]
          },
          "metadata": {},
          "execution_count": 5
        },
        {
          "output_type": "display_data",
          "data": {
            "text/plain": [
              "<Figure size 432x288 with 1 Axes>"
            ],
            "image/png": "[encoded data removed]"
          },
          "metadata": {
            "needs_background": "light"
          }
        }
      ]
    },
    {
      "cell_type": "code",
      "source": [
        "# optimizers\n",
        "\n",
        "def SGD(x0, gradf):\n",
        "  x0 = x0 - eta*gradf(x0)\n",
        "  return x0\n",
        "\n",
        "def MomentumSGD(x0, m, gradf, beta=0.9, nesterov=0):\n",
        "  m = beta*m - eta*gradf(x0 + beta*m)\n",
        "  x0 = x0 + m\n",
        "  return x0, m\n",
        "\n",
        "def AdaGrad(x0, gradf, s):\n",
        "  s = s + gradf(x0)**2\n",
        "  x0 = x0 - eta*gradf(x0)/np.sqrt(s + 1e-5)\n",
        "  return x0, s\n",
        "\n",
        "def RMSProp(x0, gradf, s, beta=0.9):\n",
        "  s = beta*s + (1-beta)*gradf(x0)**2\n",
        "  x0 = x0 - eta*gradf(x0)/np.sqrt(s + 1e-5)\n",
        "  return x0, s\n",
        "\n",
        "def Adam(x0, gradf, t, m, s, beta1=0.9, beta2=0.999):\n",
        "  t+=1\n",
        "  m = beta1*m + (1-beta1)*gradf(x0)\n",
        "  s = beta2*s + (1-beta2)*gradf(x0)**2\n",
        "  mh = m/(1-beta1**t)\n",
        "  sh = s/(1-beta2**t)\n",
        "  x0 = x0 - eta*mh/np.sqrt(sh+1e-5)\n",
        "  return x0, t, m, s\n",
        "\n"
      ],
      "metadata": {
        "id": "KvkoEJYDm3rG"
      },
      "execution_count": 6,
      "outputs": []
    },
    {
      "cell_type": "code",
      "source": [
        "\n",
        "# loop through the list of eta values\n",
        "for eta in etas:\n",
        "    # perform optimization using SGD with current eta value\n",
        "    currErr = 1\n",
        "    steps = 0\n",
        "    x0 = 0.75\n",
        "    while currErr > targetErr:\n",
        "      x1 = SGD(x0, fprime)\n",
        "      currErr = np.abs(x1-x0)\n",
        "      x0 = x1\n",
        "      steps += 1\n",
        "    print(f'Minimum found x = {x0} with learning rate = {eta} in {steps} steps.')\n",
        "    \n"
      ],
      "metadata": {
        "colab": {
          "base_uri": "https://localhost:8080/"
        },
        "id": "ccXFWL8k8YAJ",
        "outputId": "053db3b1-98ec-47e0-9ef0-89b46781a171"
      },
      "execution_count": 7,
      "outputs": [
        {
          "output_type": "stream",
          "name": "stdout",
          "text": [
            "Minimum found x = 1.5525579382404713 with learning rate = 0.1 in 267 steps.\n",
            "Minimum found x = 1.5525558823376713 with learning rate = 0.01 in 2208 steps.\n",
            "Minimum found x = 1.5525353687645167 with learning rate = 0.001 in 16885 steps.\n"
          ]
        }
      ]
    },
    {
      "cell_type": "code",
      "source": [
        "\n",
        "# loop through the list of etas\n",
        "for eta in etas:\n",
        "  steps = 0\n",
        "  currentErr = 1\n",
        "  x0 = 0.75\n",
        "  m = 0.0\n",
        "  while currentErr>targetErr:\n",
        "    x1, m = MomentumSGD(x0, m, fprime)\n",
        "    currentErr = np.abs(x1-x0)\n",
        "    x0=x1\n",
        "    steps+=1\n",
        "  print(f'Minimum found x = {x0} with learning rate = {eta} in {steps} steps.')\n",
        "\n"
      ],
      "metadata": {
        "colab": {
          "base_uri": "https://localhost:8080/"
        },
        "id": "gLuHHq0Mm3w1",
        "outputId": "7e4a395b-f756-4407-c367-785526718145"
      },
      "execution_count": 8,
      "outputs": [
        {
          "output_type": "stream",
          "name": "stdout",
          "text": [
            "Minimum found x = 2.618186051246279 with learning rate = 0.1 in 18 steps.\n",
            "Minimum found x = 2.618185809074192 with learning rate = 0.01 in 154 steps.\n",
            "Minimum found x = 1.5525559655871317 with learning rate = 0.001 in 2064 steps.\n"
          ]
        }
      ]
    },
    {
      "cell_type": "code",
      "source": [
        "for eta in etas:\n",
        "  steps = 0\n",
        "  currentErr = 1\n",
        "  x0 = 0.75\n",
        "  s= 0.0\n",
        "  while currentErr>targetErr:\n",
        "    x1 , s = AdaGrad(x0, fprime, s)\n",
        "    currentErr = np.abs(x1-x0)\n",
        "    x0 = x1\n",
        "    steps+=1\n",
        "  print(f'Minimum found x = {x0} with learning rate = {eta} in {steps} steps.')\n",
        "\n"
      ],
      "metadata": {
        "colab": {
          "base_uri": "https://localhost:8080/"
        },
        "id": "PqDOrmM9zGNl",
        "outputId": "eff602b6-d53e-4e01-e708-e5114026b172"
      },
      "execution_count": 9,
      "outputs": [
        {
          "output_type": "stream",
          "name": "stdout",
          "text": [
            "Minimum found x = 1.552556649121219 with learning rate = 0.1 in 1516 steps.\n",
            "Minimum found x = 1.5524336354614265 with learning rate = 0.01 in 70558 steps.\n",
            "Minimum found x = 1.5428949357407409 with learning rate = 0.001 in 1862725 steps.\n"
          ]
        }
      ]
    },
    {
      "cell_type": "code",
      "source": [
        "for eta in etas:\n",
        "  steps = 0\n",
        "  currentErr = 1\n",
        "  x0 = 0.75\n",
        "  s= 0.0\n",
        "  while currentErr>targetErr:\n",
        "    x1, s = RMSProp(x0, fprime, s)\n",
        "    currentErr = np.abs(x1-x0)\n",
        "    x0 = x1\n",
        "    steps+=1\n",
        "  print(f'Minimum found x = {x0} with learning rate = {eta} in {steps} steps.')\n",
        "\n",
        "\n"
      ],
      "metadata": {
        "colab": {
          "base_uri": "https://localhost:8080/"
        },
        "id": "4uR58GwbzGSg",
        "outputId": "1883302f-4a5c-443e-fa66-8ae4352a0052"
      },
      "execution_count": 10,
      "outputs": [
        {
          "output_type": "stream",
          "name": "stdout",
          "text": [
            "Minimum found x = 1.552558148148238 with learning rate = 0.1 in 52 steps.\n",
            "Minimum found x = 1.5525581462142601 with learning rate = 0.01 in 161 steps.\n",
            "Minimum found x = 1.5525580948183633 with learning rate = 0.001 in 934 steps.\n"
          ]
        }
      ]
    },
    {
      "cell_type": "code",
      "source": [
        "for eta in etas:\n",
        "  # initializations\n",
        "  steps = 0\n",
        "  currentErr = 1\n",
        "  x0 = 0.75\n",
        "  m = 0.0\n",
        "  s = 0.0\n",
        "  t = 0\n",
        "  while currentErr>targetErr:\n",
        "    x1, t, m, s = Adam(x0, fprime, t, m, s)\n",
        "    currentErr = np.abs(x1-x0)\n",
        "    x0 = x1\n",
        "    steps+=1\n",
        "  print(f'Minimum found x = {x0} with learning rate = {eta} in {steps} steps.')"
      ],
      "metadata": {
        "colab": {
          "base_uri": "https://localhost:8080/"
        },
        "id": "KI4tegHEd4on",
        "outputId": "f1c9ffa7-7684-46d9-f609-54b048bac65f"
      },
      "execution_count": 11,
      "outputs": [
        {
          "output_type": "stream",
          "name": "stdout",
          "text": [
            "Minimum found x = 2.6181862432967242 with learning rate = 0.1 in 300 steps.\n",
            "Minimum found x = 1.552557567799466 with learning rate = 0.01 in 1160 steps.\n",
            "Minimum found x = 1.552556331618927 with learning rate = 0.001 in 5991 steps.\n"
          ]
        }
      ]
    }
  ]
}